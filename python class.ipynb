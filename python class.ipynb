{
 "cells": [
  {
   "cell_type": "code",
   "execution_count": 10,
   "id": "f5be2783",
   "metadata": {},
   "outputs": [
    {
     "name": "stdout",
     "output_type": "stream",
     "text": [
      "Enter a positive num\n",
      "1\n"
     ]
    }
   ],
   "source": [
    "x =float(input(\"Enter a positive num\\n\"))"
   ]
  },
  {
   "cell_type": "code",
   "execution_count": 11,
   "id": "2e4355ca",
   "metadata": {},
   "outputs": [
    {
     "name": "stdout",
     "output_type": "stream",
     "text": [
      "0\n",
      "1\n",
      "2\n",
      "3\n",
      "4\n",
      "5\n",
      "6\n",
      "7\n",
      "8\n",
      "9\n",
      "10\n"
     ]
    }
   ],
   "source": [
    "for i in range (11):\n",
    "    print(i)"
   ]
  },
  {
   "cell_type": "code",
   "execution_count": 12,
   "id": "90635d1d",
   "metadata": {},
   "outputs": [
    {
     "data": {
      "text/plain": [
       "True"
      ]
     },
     "execution_count": 12,
     "metadata": {},
     "output_type": "execute_result"
    }
   ],
   "source": [
    "'p' in 'print'"
   ]
  },
  {
   "cell_type": "code",
   "execution_count": 13,
   "id": "f18159b9",
   "metadata": {},
   "outputs": [
    {
     "data": {
      "text/plain": [
       "False"
      ]
     },
     "execution_count": 13,
     "metadata": {},
     "output_type": "execute_result"
    }
   ],
   "source": [
    "'b' in 'print'"
   ]
  },
  {
   "cell_type": "code",
   "execution_count": 14,
   "id": "74120a10",
   "metadata": {},
   "outputs": [
    {
     "data": {
      "text/plain": [
       "True"
      ]
     },
     "execution_count": 14,
     "metadata": {},
     "output_type": "execute_result"
    }
   ],
   "source": [
    "'heal' in 'health'"
   ]
  },
  {
   "cell_type": "code",
   "execution_count": 15,
   "id": "4d2f0bce",
   "metadata": {},
   "outputs": [
    {
     "name": "stdout",
     "output_type": "stream",
     "text": [
      "1\n",
      "5\n",
      "9\n"
     ]
    }
   ],
   "source": [
    "for i in range (1,10,4):\n",
    "    print(i)"
   ]
  },
  {
   "cell_type": "code",
   "execution_count": 16,
   "id": "8f95f9d3",
   "metadata": {},
   "outputs": [
    {
     "data": {
      "text/plain": [
       "int"
      ]
     },
     "execution_count": 16,
     "metadata": {},
     "output_type": "execute_result"
    }
   ],
   "source": [
    "type(i)"
   ]
  },
  {
   "cell_type": "code",
   "execution_count": 17,
   "id": "f1bd8d82",
   "metadata": {},
   "outputs": [
    {
     "data": {
      "text/plain": [
       "9"
      ]
     },
     "execution_count": 17,
     "metadata": {},
     "output_type": "execute_result"
    }
   ],
   "source": [
    "i"
   ]
  },
  {
   "cell_type": "code",
   "execution_count": 18,
   "id": "0c58bb13",
   "metadata": {},
   "outputs": [],
   "source": [
    "name_list =[]\n",
    "dob_list = []\n",
    "designation_list = []\n",
    "emp_id_list = []\n"
   ]
  },
  {
   "cell_type": "code",
   "execution_count": 21,
   "id": "04827a04",
   "metadata": {},
   "outputs": [
    {
     "name": "stdout",
     "output_type": "stream",
     "text": [
      "['ahmed', '23', '2', '2', '2']ahmed\n",
      "['quari', '2', '2', '2', '2']quadri\n",
      "['khan', '2', '2', '2', '2']mohammed\n",
      "['employee', '2', '2', '2', '2']kareem\n"
     ]
    }
   ],
   "source": [
    "for i in range(1):\n",
    "    name = input(name_list)\n",
    "    name_list.append(name)\n",
    "    dob = input(dob_list)\n",
    "    dob_list.append(dob)\n",
    "    designation = input(designation_list)\n",
    "    designation_list.append(designation)\n",
    "    emp_id = input(emp_id_list)\n",
    "    emp_id_list.append(emp_id)\n",
    "    \n",
    "    "
   ]
  },
  {
   "cell_type": "code",
   "execution_count": 23,
   "id": "d26c4f64",
   "metadata": {},
   "outputs": [
    {
     "data": {
      "text/plain": [
       "['quari', '2', '2', '2', '2', 'quadri']"
      ]
     },
     "execution_count": 23,
     "metadata": {},
     "output_type": "execute_result"
    }
   ],
   "source": [
    "dob_list"
   ]
  },
  {
   "cell_type": "code",
   "execution_count": null,
   "id": "478885eb",
   "metadata": {},
   "outputs": [],
   "source": []
  },
  {
   "cell_type": "code",
   "execution_count": null,
   "id": "8f7472d6",
   "metadata": {},
   "outputs": [],
   "source": []
  }
 ],
 "metadata": {
  "kernelspec": {
   "display_name": "Python 3",
   "language": "python",
   "name": "python3"
  },
  "language_info": {
   "codemirror_mode": {
    "name": "ipython",
    "version": 3
   },
   "file_extension": ".py",
   "mimetype": "text/x-python",
   "name": "python",
   "nbconvert_exporter": "python",
   "pygments_lexer": "ipython3",
   "version": "3.9.5 (tags/v3.9.5:0a7dcbd, May  3 2021, 17:27:52) [MSC v.1928 64 bit (AMD64)]"
  },
  "vscode": {
   "interpreter": {
    "hash": "e637b39638bae0782867a55f7d980fc7b2372391e0385d8227dc388ffeaa108f"
   }
  }
 },
 "nbformat": 4,
 "nbformat_minor": 5
}
